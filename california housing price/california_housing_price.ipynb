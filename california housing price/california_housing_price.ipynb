{
  "cells": [
    {
      "cell_type": "markdown",
      "metadata": {
        "id": "view-in-github",
        "colab_type": "text"
      },
      "source": [
        "<a href=\"https://colab.research.google.com/github/ykalathiya-2/AutoGluon/blob/main/california%20housing%20price/california_housing_price.ipynb\" target=\"_parent\"><img src=\"https://colab.research.google.com/assets/colab-badge.svg\" alt=\"Open In Colab\"/></a>"
      ]
    },
    {
      "cell_type": "code",
      "execution_count": 11,
      "metadata": {
        "id": "iZkoqGizxSU_"
      },
      "outputs": [],
      "source": [
        "from zipfile import ZipFile"
      ]
    },
    {
      "cell_type": "code",
      "execution_count": 12,
      "metadata": {
        "id": "Vdevy7IgxumM"
      },
      "outputs": [],
      "source": [
        "path = '/content/drive/MyDrive/AutoGluon_dataset/california-house-prices.zip'"
      ]
    },
    {
      "cell_type": "code",
      "execution_count": 13,
      "metadata": {
        "id": "Ckw5YqIYxl_B"
      },
      "outputs": [],
      "source": [
        "with ZipFile(path, 'r') as zipObj:\n",
        "   # Extract all the contents of zip file in current directory\n",
        "   zipObj.extractall()"
      ]
    },
    {
      "cell_type": "code",
      "execution_count": 14,
      "metadata": {
        "id": "Q-IDPJvrySez"
      },
      "outputs": [],
      "source": [
        "!pip install --quiet autogluon"
      ]
    },
    {
      "cell_type": "code",
      "execution_count": 15,
      "metadata": {
        "id": "lNxcEmDz0PP-"
      },
      "outputs": [],
      "source": [
        "import pandas as pd\n",
        "import numpy as np\n",
        "from autogluon.tabular import TabularPredictor\n",
        "pd.set_option('display.max_columns', 200)"
      ]
    },
    {
      "cell_type": "code",
      "execution_count": 16,
      "metadata": {
        "id": "X-m_STBL0Qtd"
      },
      "outputs": [],
      "source": [
        "train_df = pd.read_csv('/content/train.csv')\n",
        "test_df = pd.read_csv('/content/test.csv')"
      ]
    },
    {
      "cell_type": "code",
      "execution_count": 17,
      "metadata": {
        "colab": {
          "base_uri": "https://localhost:8080/"
        },
        "id": "g7hGced50edV",
        "outputId": "c7b84a81-e255-4b1e-8a5a-3d254e13ab9c"
      },
      "outputs": [
        {
          "output_type": "execute_result",
          "data": {
            "text/plain": [
              "Index(['Id', 'Address', 'Sold Price', 'Summary', 'Type', 'Year built',\n",
              "       'Heating', 'Cooling', 'Parking', 'Lot', 'Bedrooms', 'Bathrooms',\n",
              "       'Full bathrooms', 'Total interior livable area', 'Total spaces',\n",
              "       'Garage spaces', 'Region', 'Elementary School',\n",
              "       'Elementary School Score', 'Elementary School Distance',\n",
              "       'Middle School', 'Middle School Score', 'Middle School Distance',\n",
              "       'High School', 'High School Score', 'High School Distance', 'Flooring',\n",
              "       'Heating features', 'Cooling features', 'Appliances included',\n",
              "       'Laundry features', 'Parking features', 'Tax assessed value',\n",
              "       'Annual tax amount', 'Listed On', 'Listed Price', 'Last Sold On',\n",
              "       'Last Sold Price', 'City', 'Zip', 'State'],\n",
              "      dtype='object')"
            ]
          },
          "metadata": {},
          "execution_count": 17
        }
      ],
      "source": [
        "train_df.columns"
      ]
    },
    {
      "cell_type": "code",
      "execution_count": 18,
      "metadata": {
        "colab": {
          "base_uri": "https://localhost:8080/",
          "height": 642
        },
        "id": "EFXsXZTK0xLG",
        "outputId": "c4b35c39-5f65-4ae4-e9ca-0a2b1ad28777"
      },
      "outputs": [
        {
          "output_type": "execute_result",
          "data": {
            "text/plain": [
              "   Id            Address  Sold Price  \\\n",
              "0   0        540 Pine Ln   3825000.0   \n",
              "1   1     1727 W 67th St    505000.0   \n",
              "2   2     28093 Pine Ave    140000.0   \n",
              "3   3  10750 Braddock Dr   1775000.0   \n",
              "4   4  7415 O Donovan Rd   1175000.0   \n",
              "\n",
              "                                             Summary          Type  \\\n",
              "0  540 Pine Ln, Los Altos, CA 94022 is a single f...  SingleFamily   \n",
              "1  HURRY, HURRY.......Great house 3 bed and 2 bat...  SingleFamily   \n",
              "2  'THE PERFECT CABIN TO FLIP!  Strawberry deligh...  SingleFamily   \n",
              "3  Rare 2-story Gated 5 bedroom Modern Mediterran...  SingleFamily   \n",
              "4  Beautiful 200 acre ranch land with several pas...    VacantLand   \n",
              "\n",
              "   Year built                                       Heating  \\\n",
              "0      1969.0  Heating - 2+ Zones, Central Forced Air - Gas   \n",
              "1      1926.0                                   Combination   \n",
              "2      1958.0                                    Forced air   \n",
              "3      1947.0                                       Central   \n",
              "4         NaN                                           NaN   \n",
              "\n",
              "                                             Cooling  \\\n",
              "0    Multi-Zone, Central AC, Whole House / Attic Fan   \n",
              "1  Wall/Window Unit(s), Evaporative Cooling, See ...   \n",
              "2                                                NaN   \n",
              "3                                        Central Air   \n",
              "4                                                NaN   \n",
              "\n",
              "                                         Parking     Lot  \\\n",
              "0             Garage, Garage - Attached, Covered     1.0   \n",
              "1                       Detached Carport, Garage  4047.0   \n",
              "2                                       0 spaces  9147.0   \n",
              "3  Detached Carport, Driveway, Garage - Two Door     NaN   \n",
              "4                                       0 spaces     NaN   \n",
              "\n",
              "                                            Bedrooms  Bathrooms  \\\n",
              "0  Ground Floor Bedroom, Master Bedroom on Ground...        0.0   \n",
              "1                                                  3        2.0   \n",
              "2                                                  2        3.0   \n",
              "3                                                  5        3.0   \n",
              "4                                                NaN        NaN   \n",
              "\n",
              "   Full bathrooms  Total interior livable area  Total spaces  Garage spaces  \\\n",
              "0             NaN                          1.0           0.0            0.0   \n",
              "1             2.0                        872.0           1.0            1.0   \n",
              "2             1.0                       1152.0           0.0            0.0   \n",
              "3             3.0                       2612.0           0.0            0.0   \n",
              "4             NaN                          NaN           NaN            NaN   \n",
              "\n",
              "        Region                  Elementary School  Elementary School Score  \\\n",
              "0    Los Altos       Santa Rita Elementary School                      7.0   \n",
              "1  Los Angeles   Raymond Avenue Elementary School                      3.0   \n",
              "2   Strawberry                                NaN                      NaN   \n",
              "3  Culver City         Farragut Elementary School                      9.0   \n",
              "4      Creston  Santa Margarita Elementary School                      6.0   \n",
              "\n",
              "   Elementary School Distance              Middle School  Middle School Score  \\\n",
              "0                         0.4                        NaN                  NaN   \n",
              "1                         0.8    John Muir Middle School                  2.0   \n",
              "2                         NaN                        NaN                  NaN   \n",
              "3                         0.2  Culver City Middle School                  7.0   \n",
              "4                         8.5   Atascadero Middle School                  5.0   \n",
              "\n",
              "   Middle School Distance                                        High School  \\\n",
              "0                     NaN                              Los Altos High School   \n",
              "1                     1.1  Augustus F. Hawkins High A Critical Design And...   \n",
              "2                     NaN                              Long Barn High School   \n",
              "3                     0.2                            Culver City High School   \n",
              "4                    10.2                             Atascadero High School   \n",
              "\n",
              "   High School Score  High School Distance                Flooring  \\\n",
              "0                8.0                   1.3  Tile, Hardwood, Carpet   \n",
              "1                2.0                   1.3                     NaN   \n",
              "2                NaN                  10.1                     NaN   \n",
              "3                8.0                   0.2              Wood, Tile   \n",
              "4                6.0                  10.6                     NaN   \n",
              "\n",
              "  Heating features                                   Cooling features  \\\n",
              "0  Forced air, Gas                                            Central   \n",
              "1      Combination  Wall/Window Unit(s), Evaporative Cooling, See ...   \n",
              "2       Forced air                                                NaN   \n",
              "3          Central                                        Central Air   \n",
              "4              NaN                                                NaN   \n",
              "\n",
              "                                 Appliances included  \\\n",
              "0  Dishwasher, Dryer, Garbage disposal, Microwave...   \n",
              "1                                                NaN   \n",
              "2                                                NaN   \n",
              "3                                         Dishwasher   \n",
              "4                                                NaN   \n",
              "\n",
              "                          Laundry features  \\\n",
              "0  Washer / Dryer, Inside, In Utility Room   \n",
              "1                                   Inside   \n",
              "2                                      NaN   \n",
              "3                   Stackable, Upper Level   \n",
              "4                                      NaN   \n",
              "\n",
              "                                Parking features  Tax assessed value  \\\n",
              "0             Garage, Garage - Attached, Covered            886486.0   \n",
              "1                       Detached Carport, Garage            505000.0   \n",
              "2                                            NaN             49627.0   \n",
              "3  Detached Carport, Driveway, Garage - Two Door           1775000.0   \n",
              "4                                            NaN                 NaN   \n",
              "\n",
              "   Annual tax amount   Listed On  Listed Price Last Sold On  Last Sold Price  \\\n",
              "0            12580.0  2019-10-24     4198000.0          NaN              NaN   \n",
              "1             6253.0  2019-10-16      525000.0   2019-08-30         328000.0   \n",
              "2              468.0  2019-08-25      180000.0          NaN              NaN   \n",
              "3            20787.0  2019-10-24     1895000.0   2016-08-30        1500000.0   \n",
              "4                NaN  2019-06-07     1595000.0   2016-06-27         900000.0   \n",
              "\n",
              "          City    Zip State  \n",
              "0    Los Altos  94022    CA  \n",
              "1  Los Angeles  90047    CA  \n",
              "2   Strawberry  95375    CA  \n",
              "3  Culver City  90230    CA  \n",
              "4      Creston  93432    CA  "
            ],
            "text/html": [
              "\n",
              "  <div id=\"df-fcc16660-3972-440a-bb2e-79c580b7b46b\" class=\"colab-df-container\">\n",
              "    <div>\n",
              "<style scoped>\n",
              "    .dataframe tbody tr th:only-of-type {\n",
              "        vertical-align: middle;\n",
              "    }\n",
              "\n",
              "    .dataframe tbody tr th {\n",
              "        vertical-align: top;\n",
              "    }\n",
              "\n",
              "    .dataframe thead th {\n",
              "        text-align: right;\n",
              "    }\n",
              "</style>\n",
              "<table border=\"1\" class=\"dataframe\">\n",
              "  <thead>\n",
              "    <tr style=\"text-align: right;\">\n",
              "      <th></th>\n",
              "      <th>Id</th>\n",
              "      <th>Address</th>\n",
              "      <th>Sold Price</th>\n",
              "      <th>Summary</th>\n",
              "      <th>Type</th>\n",
              "      <th>Year built</th>\n",
              "      <th>Heating</th>\n",
              "      <th>Cooling</th>\n",
              "      <th>Parking</th>\n",
              "      <th>Lot</th>\n",
              "      <th>Bedrooms</th>\n",
              "      <th>Bathrooms</th>\n",
              "      <th>Full bathrooms</th>\n",
              "      <th>Total interior livable area</th>\n",
              "      <th>Total spaces</th>\n",
              "      <th>Garage spaces</th>\n",
              "      <th>Region</th>\n",
              "      <th>Elementary School</th>\n",
              "      <th>Elementary School Score</th>\n",
              "      <th>Elementary School Distance</th>\n",
              "      <th>Middle School</th>\n",
              "      <th>Middle School Score</th>\n",
              "      <th>Middle School Distance</th>\n",
              "      <th>High School</th>\n",
              "      <th>High School Score</th>\n",
              "      <th>High School Distance</th>\n",
              "      <th>Flooring</th>\n",
              "      <th>Heating features</th>\n",
              "      <th>Cooling features</th>\n",
              "      <th>Appliances included</th>\n",
              "      <th>Laundry features</th>\n",
              "      <th>Parking features</th>\n",
              "      <th>Tax assessed value</th>\n",
              "      <th>Annual tax amount</th>\n",
              "      <th>Listed On</th>\n",
              "      <th>Listed Price</th>\n",
              "      <th>Last Sold On</th>\n",
              "      <th>Last Sold Price</th>\n",
              "      <th>City</th>\n",
              "      <th>Zip</th>\n",
              "      <th>State</th>\n",
              "    </tr>\n",
              "  </thead>\n",
              "  <tbody>\n",
              "    <tr>\n",
              "      <th>0</th>\n",
              "      <td>0</td>\n",
              "      <td>540 Pine Ln</td>\n",
              "      <td>3825000.0</td>\n",
              "      <td>540 Pine Ln, Los Altos, CA 94022 is a single f...</td>\n",
              "      <td>SingleFamily</td>\n",
              "      <td>1969.0</td>\n",
              "      <td>Heating - 2+ Zones, Central Forced Air - Gas</td>\n",
              "      <td>Multi-Zone, Central AC, Whole House / Attic Fan</td>\n",
              "      <td>Garage, Garage - Attached, Covered</td>\n",
              "      <td>1.0</td>\n",
              "      <td>Ground Floor Bedroom, Master Bedroom on Ground...</td>\n",
              "      <td>0.0</td>\n",
              "      <td>NaN</td>\n",
              "      <td>1.0</td>\n",
              "      <td>0.0</td>\n",
              "      <td>0.0</td>\n",
              "      <td>Los Altos</td>\n",
              "      <td>Santa Rita Elementary School</td>\n",
              "      <td>7.0</td>\n",
              "      <td>0.4</td>\n",
              "      <td>NaN</td>\n",
              "      <td>NaN</td>\n",
              "      <td>NaN</td>\n",
              "      <td>Los Altos High School</td>\n",
              "      <td>8.0</td>\n",
              "      <td>1.3</td>\n",
              "      <td>Tile, Hardwood, Carpet</td>\n",
              "      <td>Forced air, Gas</td>\n",
              "      <td>Central</td>\n",
              "      <td>Dishwasher, Dryer, Garbage disposal, Microwave...</td>\n",
              "      <td>Washer / Dryer, Inside, In Utility Room</td>\n",
              "      <td>Garage, Garage - Attached, Covered</td>\n",
              "      <td>886486.0</td>\n",
              "      <td>12580.0</td>\n",
              "      <td>2019-10-24</td>\n",
              "      <td>4198000.0</td>\n",
              "      <td>NaN</td>\n",
              "      <td>NaN</td>\n",
              "      <td>Los Altos</td>\n",
              "      <td>94022</td>\n",
              "      <td>CA</td>\n",
              "    </tr>\n",
              "    <tr>\n",
              "      <th>1</th>\n",
              "      <td>1</td>\n",
              "      <td>1727 W 67th St</td>\n",
              "      <td>505000.0</td>\n",
              "      <td>HURRY, HURRY.......Great house 3 bed and 2 bat...</td>\n",
              "      <td>SingleFamily</td>\n",
              "      <td>1926.0</td>\n",
              "      <td>Combination</td>\n",
              "      <td>Wall/Window Unit(s), Evaporative Cooling, See ...</td>\n",
              "      <td>Detached Carport, Garage</td>\n",
              "      <td>4047.0</td>\n",
              "      <td>3</td>\n",
              "      <td>2.0</td>\n",
              "      <td>2.0</td>\n",
              "      <td>872.0</td>\n",
              "      <td>1.0</td>\n",
              "      <td>1.0</td>\n",
              "      <td>Los Angeles</td>\n",
              "      <td>Raymond Avenue Elementary School</td>\n",
              "      <td>3.0</td>\n",
              "      <td>0.8</td>\n",
              "      <td>John Muir Middle School</td>\n",
              "      <td>2.0</td>\n",
              "      <td>1.1</td>\n",
              "      <td>Augustus F. Hawkins High A Critical Design And...</td>\n",
              "      <td>2.0</td>\n",
              "      <td>1.3</td>\n",
              "      <td>NaN</td>\n",
              "      <td>Combination</td>\n",
              "      <td>Wall/Window Unit(s), Evaporative Cooling, See ...</td>\n",
              "      <td>NaN</td>\n",
              "      <td>Inside</td>\n",
              "      <td>Detached Carport, Garage</td>\n",
              "      <td>505000.0</td>\n",
              "      <td>6253.0</td>\n",
              "      <td>2019-10-16</td>\n",
              "      <td>525000.0</td>\n",
              "      <td>2019-08-30</td>\n",
              "      <td>328000.0</td>\n",
              "      <td>Los Angeles</td>\n",
              "      <td>90047</td>\n",
              "      <td>CA</td>\n",
              "    </tr>\n",
              "    <tr>\n",
              "      <th>2</th>\n",
              "      <td>2</td>\n",
              "      <td>28093 Pine Ave</td>\n",
              "      <td>140000.0</td>\n",
              "      <td>'THE PERFECT CABIN TO FLIP!  Strawberry deligh...</td>\n",
              "      <td>SingleFamily</td>\n",
              "      <td>1958.0</td>\n",
              "      <td>Forced air</td>\n",
              "      <td>NaN</td>\n",
              "      <td>0 spaces</td>\n",
              "      <td>9147.0</td>\n",
              "      <td>2</td>\n",
              "      <td>3.0</td>\n",
              "      <td>1.0</td>\n",
              "      <td>1152.0</td>\n",
              "      <td>0.0</td>\n",
              "      <td>0.0</td>\n",
              "      <td>Strawberry</td>\n",
              "      <td>NaN</td>\n",
              "      <td>NaN</td>\n",
              "      <td>NaN</td>\n",
              "      <td>NaN</td>\n",
              "      <td>NaN</td>\n",
              "      <td>NaN</td>\n",
              "      <td>Long Barn High School</td>\n",
              "      <td>NaN</td>\n",
              "      <td>10.1</td>\n",
              "      <td>NaN</td>\n",
              "      <td>Forced air</td>\n",
              "      <td>NaN</td>\n",
              "      <td>NaN</td>\n",
              "      <td>NaN</td>\n",
              "      <td>NaN</td>\n",
              "      <td>49627.0</td>\n",
              "      <td>468.0</td>\n",
              "      <td>2019-08-25</td>\n",
              "      <td>180000.0</td>\n",
              "      <td>NaN</td>\n",
              "      <td>NaN</td>\n",
              "      <td>Strawberry</td>\n",
              "      <td>95375</td>\n",
              "      <td>CA</td>\n",
              "    </tr>\n",
              "    <tr>\n",
              "      <th>3</th>\n",
              "      <td>3</td>\n",
              "      <td>10750 Braddock Dr</td>\n",
              "      <td>1775000.0</td>\n",
              "      <td>Rare 2-story Gated 5 bedroom Modern Mediterran...</td>\n",
              "      <td>SingleFamily</td>\n",
              "      <td>1947.0</td>\n",
              "      <td>Central</td>\n",
              "      <td>Central Air</td>\n",
              "      <td>Detached Carport, Driveway, Garage - Two Door</td>\n",
              "      <td>NaN</td>\n",
              "      <td>5</td>\n",
              "      <td>3.0</td>\n",
              "      <td>3.0</td>\n",
              "      <td>2612.0</td>\n",
              "      <td>0.0</td>\n",
              "      <td>0.0</td>\n",
              "      <td>Culver City</td>\n",
              "      <td>Farragut Elementary School</td>\n",
              "      <td>9.0</td>\n",
              "      <td>0.2</td>\n",
              "      <td>Culver City Middle School</td>\n",
              "      <td>7.0</td>\n",
              "      <td>0.2</td>\n",
              "      <td>Culver City High School</td>\n",
              "      <td>8.0</td>\n",
              "      <td>0.2</td>\n",
              "      <td>Wood, Tile</td>\n",
              "      <td>Central</td>\n",
              "      <td>Central Air</td>\n",
              "      <td>Dishwasher</td>\n",
              "      <td>Stackable, Upper Level</td>\n",
              "      <td>Detached Carport, Driveway, Garage - Two Door</td>\n",
              "      <td>1775000.0</td>\n",
              "      <td>20787.0</td>\n",
              "      <td>2019-10-24</td>\n",
              "      <td>1895000.0</td>\n",
              "      <td>2016-08-30</td>\n",
              "      <td>1500000.0</td>\n",
              "      <td>Culver City</td>\n",
              "      <td>90230</td>\n",
              "      <td>CA</td>\n",
              "    </tr>\n",
              "    <tr>\n",
              "      <th>4</th>\n",
              "      <td>4</td>\n",
              "      <td>7415 O Donovan Rd</td>\n",
              "      <td>1175000.0</td>\n",
              "      <td>Beautiful 200 acre ranch land with several pas...</td>\n",
              "      <td>VacantLand</td>\n",
              "      <td>NaN</td>\n",
              "      <td>NaN</td>\n",
              "      <td>NaN</td>\n",
              "      <td>0 spaces</td>\n",
              "      <td>NaN</td>\n",
              "      <td>NaN</td>\n",
              "      <td>NaN</td>\n",
              "      <td>NaN</td>\n",
              "      <td>NaN</td>\n",
              "      <td>NaN</td>\n",
              "      <td>NaN</td>\n",
              "      <td>Creston</td>\n",
              "      <td>Santa Margarita Elementary School</td>\n",
              "      <td>6.0</td>\n",
              "      <td>8.5</td>\n",
              "      <td>Atascadero Middle School</td>\n",
              "      <td>5.0</td>\n",
              "      <td>10.2</td>\n",
              "      <td>Atascadero High School</td>\n",
              "      <td>6.0</td>\n",
              "      <td>10.6</td>\n",
              "      <td>NaN</td>\n",
              "      <td>NaN</td>\n",
              "      <td>NaN</td>\n",
              "      <td>NaN</td>\n",
              "      <td>NaN</td>\n",
              "      <td>NaN</td>\n",
              "      <td>NaN</td>\n",
              "      <td>NaN</td>\n",
              "      <td>2019-06-07</td>\n",
              "      <td>1595000.0</td>\n",
              "      <td>2016-06-27</td>\n",
              "      <td>900000.0</td>\n",
              "      <td>Creston</td>\n",
              "      <td>93432</td>\n",
              "      <td>CA</td>\n",
              "    </tr>\n",
              "  </tbody>\n",
              "</table>\n",
              "</div>\n",
              "    <div class=\"colab-df-buttons\">\n",
              "\n",
              "  <div class=\"colab-df-container\">\n",
              "    <button class=\"colab-df-convert\" onclick=\"convertToInteractive('df-fcc16660-3972-440a-bb2e-79c580b7b46b')\"\n",
              "            title=\"Convert this dataframe to an interactive table.\"\n",
              "            style=\"display:none;\">\n",
              "\n",
              "  <svg xmlns=\"http://www.w3.org/2000/svg\" height=\"24px\" viewBox=\"0 -960 960 960\">\n",
              "    <path d=\"M120-120v-720h720v720H120Zm60-500h600v-160H180v160Zm220 220h160v-160H400v160Zm0 220h160v-160H400v160ZM180-400h160v-160H180v160Zm440 0h160v-160H620v160ZM180-180h160v-160H180v160Zm440 0h160v-160H620v160Z\"/>\n",
              "  </svg>\n",
              "    </button>\n",
              "\n",
              "  <style>\n",
              "    .colab-df-container {\n",
              "      display:flex;\n",
              "      gap: 12px;\n",
              "    }\n",
              "\n",
              "    .colab-df-convert {\n",
              "      background-color: #E8F0FE;\n",
              "      border: none;\n",
              "      border-radius: 50%;\n",
              "      cursor: pointer;\n",
              "      display: none;\n",
              "      fill: #1967D2;\n",
              "      height: 32px;\n",
              "      padding: 0 0 0 0;\n",
              "      width: 32px;\n",
              "    }\n",
              "\n",
              "    .colab-df-convert:hover {\n",
              "      background-color: #E2EBFA;\n",
              "      box-shadow: 0px 1px 2px rgba(60, 64, 67, 0.3), 0px 1px 3px 1px rgba(60, 64, 67, 0.15);\n",
              "      fill: #174EA6;\n",
              "    }\n",
              "\n",
              "    .colab-df-buttons div {\n",
              "      margin-bottom: 4px;\n",
              "    }\n",
              "\n",
              "    [theme=dark] .colab-df-convert {\n",
              "      background-color: #3B4455;\n",
              "      fill: #D2E3FC;\n",
              "    }\n",
              "\n",
              "    [theme=dark] .colab-df-convert:hover {\n",
              "      background-color: #434B5C;\n",
              "      box-shadow: 0px 1px 3px 1px rgba(0, 0, 0, 0.15);\n",
              "      filter: drop-shadow(0px 1px 2px rgba(0, 0, 0, 0.3));\n",
              "      fill: #FFFFFF;\n",
              "    }\n",
              "  </style>\n",
              "\n",
              "    <script>\n",
              "      const buttonEl =\n",
              "        document.querySelector('#df-fcc16660-3972-440a-bb2e-79c580b7b46b button.colab-df-convert');\n",
              "      buttonEl.style.display =\n",
              "        google.colab.kernel.accessAllowed ? 'block' : 'none';\n",
              "\n",
              "      async function convertToInteractive(key) {\n",
              "        const element = document.querySelector('#df-fcc16660-3972-440a-bb2e-79c580b7b46b');\n",
              "        const dataTable =\n",
              "          await google.colab.kernel.invokeFunction('convertToInteractive',\n",
              "                                                    [key], {});\n",
              "        if (!dataTable) return;\n",
              "\n",
              "        const docLinkHtml = 'Like what you see? Visit the ' +\n",
              "          '<a target=\"_blank\" href=https://colab.research.google.com/notebooks/data_table.ipynb>data table notebook</a>'\n",
              "          + ' to learn more about interactive tables.';\n",
              "        element.innerHTML = '';\n",
              "        dataTable['output_type'] = 'display_data';\n",
              "        await google.colab.output.renderOutput(dataTable, element);\n",
              "        const docLink = document.createElement('div');\n",
              "        docLink.innerHTML = docLinkHtml;\n",
              "        element.appendChild(docLink);\n",
              "      }\n",
              "    </script>\n",
              "  </div>\n",
              "\n",
              "\n",
              "    <div id=\"df-65c719cb-c5ff-48cf-9ce6-6fb7db3637f8\">\n",
              "      <button class=\"colab-df-quickchart\" onclick=\"quickchart('df-65c719cb-c5ff-48cf-9ce6-6fb7db3637f8')\"\n",
              "                title=\"Suggest charts\"\n",
              "                style=\"display:none;\">\n",
              "\n",
              "<svg xmlns=\"http://www.w3.org/2000/svg\" height=\"24px\"viewBox=\"0 0 24 24\"\n",
              "     width=\"24px\">\n",
              "    <g>\n",
              "        <path d=\"M19 3H5c-1.1 0-2 .9-2 2v14c0 1.1.9 2 2 2h14c1.1 0 2-.9 2-2V5c0-1.1-.9-2-2-2zM9 17H7v-7h2v7zm4 0h-2V7h2v10zm4 0h-2v-4h2v4z\"/>\n",
              "    </g>\n",
              "</svg>\n",
              "      </button>\n",
              "\n",
              "<style>\n",
              "  .colab-df-quickchart {\n",
              "      --bg-color: #E8F0FE;\n",
              "      --fill-color: #1967D2;\n",
              "      --hover-bg-color: #E2EBFA;\n",
              "      --hover-fill-color: #174EA6;\n",
              "      --disabled-fill-color: #AAA;\n",
              "      --disabled-bg-color: #DDD;\n",
              "  }\n",
              "\n",
              "  [theme=dark] .colab-df-quickchart {\n",
              "      --bg-color: #3B4455;\n",
              "      --fill-color: #D2E3FC;\n",
              "      --hover-bg-color: #434B5C;\n",
              "      --hover-fill-color: #FFFFFF;\n",
              "      --disabled-bg-color: #3B4455;\n",
              "      --disabled-fill-color: #666;\n",
              "  }\n",
              "\n",
              "  .colab-df-quickchart {\n",
              "    background-color: var(--bg-color);\n",
              "    border: none;\n",
              "    border-radius: 50%;\n",
              "    cursor: pointer;\n",
              "    display: none;\n",
              "    fill: var(--fill-color);\n",
              "    height: 32px;\n",
              "    padding: 0;\n",
              "    width: 32px;\n",
              "  }\n",
              "\n",
              "  .colab-df-quickchart:hover {\n",
              "    background-color: var(--hover-bg-color);\n",
              "    box-shadow: 0 1px 2px rgba(60, 64, 67, 0.3), 0 1px 3px 1px rgba(60, 64, 67, 0.15);\n",
              "    fill: var(--button-hover-fill-color);\n",
              "  }\n",
              "\n",
              "  .colab-df-quickchart-complete:disabled,\n",
              "  .colab-df-quickchart-complete:disabled:hover {\n",
              "    background-color: var(--disabled-bg-color);\n",
              "    fill: var(--disabled-fill-color);\n",
              "    box-shadow: none;\n",
              "  }\n",
              "\n",
              "  .colab-df-spinner {\n",
              "    border: 2px solid var(--fill-color);\n",
              "    border-color: transparent;\n",
              "    border-bottom-color: var(--fill-color);\n",
              "    animation:\n",
              "      spin 1s steps(1) infinite;\n",
              "  }\n",
              "\n",
              "  @keyframes spin {\n",
              "    0% {\n",
              "      border-color: transparent;\n",
              "      border-bottom-color: var(--fill-color);\n",
              "      border-left-color: var(--fill-color);\n",
              "    }\n",
              "    20% {\n",
              "      border-color: transparent;\n",
              "      border-left-color: var(--fill-color);\n",
              "      border-top-color: var(--fill-color);\n",
              "    }\n",
              "    30% {\n",
              "      border-color: transparent;\n",
              "      border-left-color: var(--fill-color);\n",
              "      border-top-color: var(--fill-color);\n",
              "      border-right-color: var(--fill-color);\n",
              "    }\n",
              "    40% {\n",
              "      border-color: transparent;\n",
              "      border-right-color: var(--fill-color);\n",
              "      border-top-color: var(--fill-color);\n",
              "    }\n",
              "    60% {\n",
              "      border-color: transparent;\n",
              "      border-right-color: var(--fill-color);\n",
              "    }\n",
              "    80% {\n",
              "      border-color: transparent;\n",
              "      border-right-color: var(--fill-color);\n",
              "      border-bottom-color: var(--fill-color);\n",
              "    }\n",
              "    90% {\n",
              "      border-color: transparent;\n",
              "      border-bottom-color: var(--fill-color);\n",
              "    }\n",
              "  }\n",
              "</style>\n",
              "\n",
              "      <script>\n",
              "        async function quickchart(key) {\n",
              "          const quickchartButtonEl =\n",
              "            document.querySelector('#' + key + ' button');\n",
              "          quickchartButtonEl.disabled = true;  // To prevent multiple clicks.\n",
              "          quickchartButtonEl.classList.add('colab-df-spinner');\n",
              "          try {\n",
              "            const charts = await google.colab.kernel.invokeFunction(\n",
              "                'suggestCharts', [key], {});\n",
              "          } catch (error) {\n",
              "            console.error('Error during call to suggestCharts:', error);\n",
              "          }\n",
              "          quickchartButtonEl.classList.remove('colab-df-spinner');\n",
              "          quickchartButtonEl.classList.add('colab-df-quickchart-complete');\n",
              "        }\n",
              "        (() => {\n",
              "          let quickchartButtonEl =\n",
              "            document.querySelector('#df-65c719cb-c5ff-48cf-9ce6-6fb7db3637f8 button');\n",
              "          quickchartButtonEl.style.display =\n",
              "            google.colab.kernel.accessAllowed ? 'block' : 'none';\n",
              "        })();\n",
              "      </script>\n",
              "    </div>\n",
              "\n",
              "    </div>\n",
              "  </div>\n"
            ],
            "application/vnd.google.colaboratory.intrinsic+json": {
              "type": "dataframe",
              "variable_name": "train_df"
            }
          },
          "metadata": {},
          "execution_count": 18
        }
      ],
      "source": [
        "train_df.head()"
      ]
    },
    {
      "cell_type": "code",
      "execution_count": 19,
      "metadata": {
        "id": "PGv8ohBKyNTz"
      },
      "outputs": [],
      "source": [
        "directory = '/contents/'  # directory where you have downloaded the data CSV files from the competition\n",
        "label = 'Sold Price'  # name of target variable to predict in this competition\n",
        "save_path = directory + 'AutoGluonModels/'  # where to store trained models"
      ]
    },
    {
      "cell_type": "code",
      "execution_count": 20,
      "metadata": {
        "colab": {
          "base_uri": "https://localhost:8080/",
          "height": 1000,
          "referenced_widgets": [
            "1cd58f67689d45f98abf3b6f143237b6",
            "7cd0b30a726843f1bbc4184d06a904d5",
            "ff5dfabb67cf48dc9d0d4df46ab3545b",
            "6d0418ebb08c404ab89ee899bb375f9c",
            "ee01caff2ee74db5bc2e71fe89986610",
            "960c7c274cf3458dab2686d33828f6d2",
            "b9efecebd0f941308e60a345ea2f9015",
            "70b8ea6cee5d4d44b2f65f465c53c18d",
            "9de77eed0d084fc182f130249b2f41a3",
            "0eca55e54abc42e194c8053ac26a97c1",
            "d432f2506ab6433983e202596fd5373f",
            "3753f2c366e1446391634f33b29fe962",
            "d4131d4f4ab14072b2ca4fd9095c2ab4",
            "3a95b635d7a64a40b3c3d463e775627d",
            "e61b51061cc14027bf5d19bb3c26bd45",
            "0ed9bdf94b9246fc9620eb8b046f263b",
            "b847ace1607f4ed792dcd88f9ddc95b0",
            "d0b3c299052349c5b7fa4ea3f4762ccf",
            "f783c5b6f7ba4cb7858e821336e8ce81",
            "6998f412acf043a6939ce4e8e94b626f",
            "2d33b64d1a5c4617be9667a5353ba91d",
            "6b5183ed60964167a4936732cb0c4e27",
            "bf36bdb89ade4ecd9779023bbc0f2301",
            "f2570c45b4274ce0a2fd4d47321a83fa",
            "d3e2228e60b34dd396ccb54901df34ba",
            "7c99ad6049af45d1bd841b91120a11fe",
            "4cfd248f8daf40cab1c97bacb4d5ebd3",
            "7ab0a0a0898c41018744f3e5d5ed415d",
            "f66e70642f184f8cb50e448baa10bfab",
            "286d0d4e536d45dda570ce9dc69a19ac",
            "63109894cd0d47509fc994ab667e40e8",
            "6863c955c0b64204aa22b638c878031e",
            "cbc92d505ec14d9e8a723c52f978acda",
            "59b86d93a5184f34be6a4dfffa7e89ae",
            "c288bfd5f0ca4f24a85d90e883f344f0",
            "16290c54ca0b46c48be85ed8a0ccdc78",
            "7bbd580110f441bbadf01526e08238f2",
            "0c1df3580088407d839bbb0a57ff3b72",
            "9b7a87295ddc4eae956223bf5b64a445",
            "4a37c872d8324175b350ef7dc257c625",
            "e6c005d6d0bf40c2a4ed0204a3d81124",
            "746febfe55a04e5daf0cbe0d20124851",
            "a3aa55492b3c4bfba7c262767a98a90e",
            "bfa56d32dd9340208611b571bf3b17d9",
            "75b32247433f4fb5911c8a962134281d",
            "21b316dd466544369655cd1568809599",
            "4c005f6a1cff46ebb31bda35ec78d10a",
            "eb22a0be317044dca0f907c519c4e64e",
            "51aa658c072440f39b126f97555e89a2",
            "e2a651b8da974f99ae940925c96833c5",
            "4097027603e14bd19dee1ac86b1d148e",
            "7af2e534dadb48ec8468dc5c1aa3f252",
            "203fc05380644aafa432adebc9171844",
            "976117eff8344fb1b2d22f875f8fdb15",
            "e5e1795eb5d044f99beeabacdc56801c",
            "2b3a2e29377d4921a78a415561da9221",
            "666ed19278bb4b8ba6f0abb5f8bae0e4",
            "ee8abc387c3e4b669d70842dac2e124e",
            "ed5a5a622b364dacbdaea31d9fa02249",
            "4716a9a0adac403d8fd34b0320be06e2",
            "2142489e4ab84e45a14c61cf0259bdd1",
            "25f689d468384e80bdd2f281dc044c8a",
            "33c5eaa46453440b8644f8adb739fcba",
            "f38b0561d42a4dd78a5b9938a73bca01",
            "37cb1a55c1b9446b87804295eb29a696",
            "d28908b429dc47a2afb4dbaaf0f390cc",
            "711d06b43364417ba8d692ad9fd40dc6",
            "c170c765ba2a4ad0b1f52b8854600373",
            "d3f3db0479364ee0b207c5cfe60537e9",
            "a97c0e8d6d4145e08dcaa63ef02a41be",
            "bd95586bf6a5423d907bf1f10e3edbfc",
            "8da67e5db82c461181bbbecbdbcabd2e",
            "019f552d51ed482abb3f94a849b72b96",
            "606cc087d7c948d28d6cd663fb20049d",
            "425b9121c4b547df8dc9bb51d376b4bf",
            "c21024a385f2441184d121b361069883",
            "2d3cc57281e444c8ab825bd22ed6de3a",
            "e4f3c70cdc7d42aab93f535bec03524f",
            "f49551951342436fbb6a8a7d216f1815",
            "c8897c543af04545b63064fe4404ba87",
            "55eec01251374101a274a4dec275758d",
            "9bf82d04f9414bcabcf4b6da792a657b",
            "1baf020112c34701b5e7ee1811616483",
            "54abd217c73f4e21a7016a962d4a5a51",
            "a9358e8164a1451d9dd69a03c8b44cf0",
            "7d7514ac32e949009244e6895d5e4d4c",
            "412028a4209a4d258529a13041eaf639",
            "11db1360e42945738e63af164bf870b8",
            "28fe501815464cedbc581aa71dd3a969",
            "7a9c4e0a5baf4828b811941faf5d9a84",
            "0d3825677381478a8071e2a4fe9bbc82",
            "ba0ffc1f6f154d4d926f0f11a6ffad7d",
            "271ab5160dd54716a12ac52951ed7850",
            "0fa00496e605496aa7d98d058a3d917b",
            "c438f091109f4636b8e715812ba2dd88",
            "9b23883149d64bd89c0aa30b35dc439b",
            "dc0d2af5a842489482058ead8ef511cc",
            "26725811df09461ea6e085eeb665cb89",
            "1866a6e07fd743cea49ff6438fcc1d65",
            "6a7bec43df5143c081a102236a077f54",
            "038cd6ac7f12492a87fc587953ad14ce",
            "b2dc0bf8d6644d4f9f308a09284da668",
            "e0067ca7c93e4537848b47e134ccdda8",
            "ee9fe5279aa4415f896a1a24ffe97912",
            "4f4b4852dc164255a54c7d7ea3b63d37",
            "d11913b51859458b83137ed810e433d3",
            "1e5996f73e4c48e98ce0cb91057ab0d2",
            "240a29e734a545a5a1b07be831234fea",
            "d52d2a2804114fb888f83ec0310f3ee7",
            "b1ed7fccf9ee493a9890ff32c539e955",
            "4faac3059754451593bc48ac3daa2e03",
            "da699b84ee6c4f90a530ef81d0df38ff",
            "e03752d73efe432b9af37dc61eef1912",
            "5f62f4339f8f4e06abf1a7e6e3b4ed07",
            "3da0cfcd89b54591a5d699db20556511",
            "baf010e54fab4e82b068f7023b8c4a1e",
            "472718823ff44f48a8513b95123f9dd6",
            "8191d9ed4dfd49e9a2cf8feaa8576119",
            "ed5bef98d11f40fcb59e13597199c32b",
            "0f1852745e2b4febb5cf27bfb8e996c9",
            "a6ec9ddc6618412d9eb904674476407c",
            "3e62ec591209401b83990359d593f424",
            "99190b95b14041688e94db91ddaea49e",
            "6e373d7f10f04acc8361249fc9250c4e",
            "5f5ab529be3c4045a4fddb3c43d2ffc9",
            "c69143d9efe44f77b7f255ae8a004c92",
            "0d80f2ac108049fc9ad3a14af8bdbb1f",
            "46c9942d7548465e9f087ea93a2d04f1",
            "7f524895d6914b6c9b8524838b545c95",
            "86c493d9f23a41679083c6cbecfa2023",
            "7d096fde774448a78f7c600e5a991b4d",
            "17f2bcbb62d74cfca7c47b6c140cdc6f",
            "f7f4d9305ebb462486427ed479127f2b",
            "53fb14b0c97a4789bed5aea61f9ef45d",
            "766bd8cf49f14e1aac817803f5936e21",
            "5e2c98a0220b4173bd8e89d8f031a4fa",
            "0b37f031a5c74690bebd0c838b1dcdbd",
            "b26f109d5ec34448bf7c818381c995f4",
            "96927b5ded254160be1de369874259bd",
            "dc4ce8c8d8fd4e9586c501fe6215a099",
            "731a660cedc147fe9062f0989aea5dd0",
            "cbc3b57d8bf04a019cd5e8b6837db401",
            "fef6bddd71e74a388a255eb661004c0d",
            "c165bf436f4b4d1c9e870064fb4fcfa0",
            "41a943e72bee43f89396637594d2412d",
            "f7a98c3769634fb9aa68e127f5b13054",
            "8a9c6418973444708ad418400a8e5d3f",
            "55128985662a4c05a6de721476a43b34",
            "51d96b2bc05941fb9ba38ad5d4260062",
            "ec1d031ba09940e2bb75c246d1a48a67",
            "30ea165a0f904c1595d324c16c21a931",
            "20246623ee6543698652ef8d7c3c0481",
            "a1c55f23feda483dbed8f32663122706",
            "2b40c960bb414fdaa614f6346c5f0b9b",
            "98a2a9d430df45e69e2aac1fa70b4e37",
            "9bd31dafb7a84315bf0c334ebf4105cd",
            "09fae1c04f6a4655a6b81d842665f00b",
            "3761a5d6bab24bcebc2b7082fe0dbb34",
            "2bbea4da82bd431aad29ea125a0c7265",
            "f85e629da7ef4b50884e5d7ff8ebf1fa",
            "0988d7e069c74da08539c072f2c2d785",
            "0deb9abe7c6f4627843baca6fc5754a2",
            "10054e5a84594b43ac84c11708a5bb20",
            "941559ebfbcb4b72aa23500308dd7148",
            "56c4918460de413fbf9854906285c285",
            "5ad77d25b3c843be9335a44097ee6723",
            "72f4558a63c8486ebe69b9884834d9a8",
            "591b1db37ed047d39f7c97a4fc4ef941",
            "ade68e33e09e48cc9f75e8303c79adc3",
            "72be00e2dea24294bbed58afbffeeee6",
            "9332654f956e44e8b654afaf6f729c63",
            "8cf3c29ec0be47a7aba46b3a24939a33",
            "737bcac2ef7745b6984dc067afaf85b7",
            "59c089f1e3b8462c96db7d51eb7f94a6",
            "a5e970ca20a4498bba1515c645d32a17",
            "779f1713c90b4f7783366822ad87f537",
            "7b219fa793a34656b3ed68f31d47c7fc",
            "2244ef51eb63458b85529c6d576d7bc6",
            "73acb03a98e64ec684afadb2f2a177e5",
            "608cabf26e2c40f58324984737e20930",
            "8f294ef140104cc6a7d7bc8cc37b8587",
            "571e4cb831114b81aad88d5132dadc8e",
            "31993c330d244104990a9f9c96f0dde0",
            "61f421566ef945e78c816d11235eb989",
            "bfe2fc0f301b4aa5a5a52485dc02ba65",
            "0010f91b4fe24e53970c773243f24c57",
            "8c108f51708d46d3a54f1bbb0bc85a92",
            "78e0ab9ff5254579a1ce1f86190ae858",
            "01d37a956e564bf4bd2fb358bb75e928",
            "888047d22e944d0c9d80debadefd6536",
            "6d54e1c25d044e4880c5ab6ec9817aa6",
            "a608110b183b4da9b7fc986e20d55fb0",
            "e514785c691642468784809c7e8b5f04",
            "b8088407111c4601ba08d0d0586c7016",
            "63a80f1015cb472bb082a0a6af366977",
            "7e7f37afc2044e9fa0344c20085ec95b",
            "677da20bbe7a4d5dad4fc244dc8b17f9",
            "96156adee9f248e5b97734f40b9fb66d",
            "2815180e64784dcb9748cea8ed97f448",
            "b15fbe0efc314e8ea3139bc55840c515",
            "cf614b2a171b484bbb787b3760ea32b2",
            "0121a33259ea4372879ec345d86bcd67",
            "9490becabab14633b8ce82247ec59992",
            "8b6a4de973184a4da38141a47182e49f",
            "2ef629fe332c44bf82c2bb56dfb01a0d",
            "60df87f1eacb4ee4b46232bf53a2eb2d",
            "cbd7b101ca4e47fba57415c0516b1d84",
            "7ac162527d47494991258ba19b4696c6",
            "1ed81cdbb3ea4a5b9359482e3a6ed45a",
            "64b4d393838a4735a15dcebdf33b8e77",
            "88ffaf46545a45cb8875cf8ce32d688f",
            "8f54b8af3f7441ee9c6a305a2889cbca",
            "5a7d6f3eba8e4f539b60c0ac84af05f4",
            "48111418bdf84880a4953a1f8e7cef57",
            "90ecd55c1cb24fcc912db4271c6edccb",
            "fdb628bebdce4206a8db77c63e55ec1d",
            "1983dd1008204d228b362a928f51a9c2",
            "d1af88824f2840009cbe0c2893ed0c0a",
            "2500bd0a26f149abbf547a47ded37d68",
            "61c3f3ffda94461bb2cf0b07d0473031"
          ]
        },
        "id": "WgM-JM7v_mu5",
        "outputId": "95f2fbbf-4ac2-4277-de2c-7a96c828d73f"
      },
      "outputs": [
        {
          "output_type": "stream",
          "name": "stderr",
          "text": [
            "No path specified. Models will be saved in: \"AutogluonModels/ag-20251014_203109\"\n",
            "=================== System Info ===================\n",
            "AutoGluon Version:  1.4.0\n",
            "Python Version:     3.12.12\n",
            "Operating System:   Linux\n",
            "Platform Machine:   x86_64\n",
            "Platform Version:   #1 SMP Thu Oct  2 10:42:05 UTC 2025\n",
            "CPU Count:          8\n",
            "Pytorch Version:    2.7.1+cu126\n",
            "CUDA Version:       12.6\n",
            "GPU Count:          1\n",
            "Memory Avail:       47.21 GB / 50.99 GB (92.6%)\n",
            "Disk Space Avail:   188.63 GB / 235.68 GB (80.0%)\n",
            "===================================================\n",
            "\n",
            "AutoMM starts to create your model. ✨✨✨\n",
            "\n",
            "To track the learning progress, you can open a terminal and launch Tensorboard:\n",
            "    ```shell\n",
            "    # Assume you have installed tensorboard\n",
            "    tensorboard --logdir /content/AutogluonModels/ag-20251014_203109\n",
            "    ```\n",
            "\n",
            "INFO: Seed set to 0\n",
            "GPU Count: 1\n",
            "GPU Count to be Used: 1\n",
            "\n",
            "INFO: Using 16bit Automatic Mixed Precision (AMP)\n",
            "INFO: GPU available: True (cuda), used: True\n",
            "INFO: TPU available: False, using: 0 TPU cores\n",
            "INFO: HPU available: False, using: 0 HPUs\n",
            "INFO: LOCAL_RANK: 0 - CUDA_VISIBLE_DEVICES: [0]\n",
            "/usr/local/lib/python3.12/dist-packages/lightning/pytorch/utilities/model_summary/model_summary.py:231: Precision 16-mixed is not supported by the model summary.  Estimated model size in MB will not be accurate. Using 32 bits instead.\n",
            "INFO: \n",
            "  | Name              | Type                | Params | Mode \n",
            "------------------------------------------------------------------\n",
            "0 | model             | MultimodalFusionMLP | 23.9 M | train\n",
            "1 | validation_metric | MeanSquaredError    | 0      | train\n",
            "2 | loss_func         | MSELoss             | 0      | train\n",
            "------------------------------------------------------------------\n",
            "23.9 M    Trainable params\n",
            "0         Non-trainable params\n",
            "23.9 M    Total params\n",
            "95.654    Total estimated model params size (MB)\n",
            "204       Modules in train mode\n",
            "0         Modules in eval mode\n"
          ]
        },
        {
          "output_type": "display_data",
          "data": {
            "text/plain": [
              "Sanity Checking: |          | 0/? [00:00<?, ?it/s]"
            ],
            "application/vnd.jupyter.widget-view+json": {
              "version_major": 2,
              "version_minor": 0,
              "model_id": "1cd58f67689d45f98abf3b6f143237b6"
            }
          },
          "metadata": {}
        },
        {
          "output_type": "display_data",
          "data": {
            "text/plain": [
              "Training: |          | 0/? [00:00<?, ?it/s]"
            ],
            "application/vnd.jupyter.widget-view+json": {
              "version_major": 2,
              "version_minor": 0,
              "model_id": "3753f2c366e1446391634f33b29fe962"
            }
          },
          "metadata": {}
        },
        {
          "output_type": "display_data",
          "data": {
            "text/plain": [
              "Validation: |          | 0/? [00:00<?, ?it/s]"
            ],
            "application/vnd.jupyter.widget-view+json": {
              "version_major": 2,
              "version_minor": 0,
              "model_id": "bf36bdb89ade4ecd9779023bbc0f2301"
            }
          },
          "metadata": {}
        },
        {
          "output_type": "stream",
          "name": "stderr",
          "text": [
            "INFO: Epoch 0, global step 175: 'val_rmse' reached 0.32838 (best 0.32838), saving model to '/content/AutogluonModels/ag-20251014_203109/epoch=0-step=175.ckpt' as top 3\n"
          ]
        },
        {
          "output_type": "display_data",
          "data": {
            "text/plain": [
              "Validation: |          | 0/? [00:00<?, ?it/s]"
            ],
            "application/vnd.jupyter.widget-view+json": {
              "version_major": 2,
              "version_minor": 0,
              "model_id": "59b86d93a5184f34be6a4dfffa7e89ae"
            }
          },
          "metadata": {}
        },
        {
          "output_type": "stream",
          "name": "stderr",
          "text": [
            "INFO: Epoch 0, global step 352: 'val_rmse' reached 0.24189 (best 0.24189), saving model to '/content/AutogluonModels/ag-20251014_203109/epoch=0-step=352.ckpt' as top 3\n"
          ]
        },
        {
          "output_type": "display_data",
          "data": {
            "text/plain": [
              "Validation: |          | 0/? [00:00<?, ?it/s]"
            ],
            "application/vnd.jupyter.widget-view+json": {
              "version_major": 2,
              "version_minor": 0,
              "model_id": "75b32247433f4fb5911c8a962134281d"
            }
          },
          "metadata": {}
        },
        {
          "output_type": "stream",
          "name": "stderr",
          "text": [
            "INFO: Epoch 1, global step 527: 'val_rmse' reached 0.28191 (best 0.24189), saving model to '/content/AutogluonModels/ag-20251014_203109/epoch=1-step=527.ckpt' as top 3\n"
          ]
        },
        {
          "output_type": "display_data",
          "data": {
            "text/plain": [
              "Validation: |          | 0/? [00:00<?, ?it/s]"
            ],
            "application/vnd.jupyter.widget-view+json": {
              "version_major": 2,
              "version_minor": 0,
              "model_id": "2b3a2e29377d4921a78a415561da9221"
            }
          },
          "metadata": {}
        },
        {
          "output_type": "stream",
          "name": "stderr",
          "text": [
            "INFO: Epoch 1, global step 704: 'val_rmse' reached 0.22906 (best 0.22906), saving model to '/content/AutogluonModels/ag-20251014_203109/epoch=1-step=704.ckpt' as top 3\n"
          ]
        },
        {
          "output_type": "display_data",
          "data": {
            "text/plain": [
              "Validation: |          | 0/? [00:00<?, ?it/s]"
            ],
            "application/vnd.jupyter.widget-view+json": {
              "version_major": 2,
              "version_minor": 0,
              "model_id": "711d06b43364417ba8d692ad9fd40dc6"
            }
          },
          "metadata": {}
        },
        {
          "output_type": "stream",
          "name": "stderr",
          "text": [
            "INFO: Epoch 2, global step 879: 'val_rmse' reached 0.19428 (best 0.19428), saving model to '/content/AutogluonModels/ag-20251014_203109/epoch=2-step=879.ckpt' as top 3\n"
          ]
        },
        {
          "output_type": "display_data",
          "data": {
            "text/plain": [
              "Validation: |          | 0/? [00:00<?, ?it/s]"
            ],
            "application/vnd.jupyter.widget-view+json": {
              "version_major": 2,
              "version_minor": 0,
              "model_id": "e4f3c70cdc7d42aab93f535bec03524f"
            }
          },
          "metadata": {}
        },
        {
          "output_type": "stream",
          "name": "stderr",
          "text": [
            "INFO: Epoch 2, global step 1056: 'val_rmse' reached 0.23824 (best 0.19428), saving model to '/content/AutogluonModels/ag-20251014_203109/epoch=2-step=1056.ckpt' as top 3\n"
          ]
        },
        {
          "output_type": "display_data",
          "data": {
            "text/plain": [
              "Validation: |          | 0/? [00:00<?, ?it/s]"
            ],
            "application/vnd.jupyter.widget-view+json": {
              "version_major": 2,
              "version_minor": 0,
              "model_id": "28fe501815464cedbc581aa71dd3a969"
            }
          },
          "metadata": {}
        },
        {
          "output_type": "stream",
          "name": "stderr",
          "text": [
            "INFO: Epoch 3, global step 1231: 'val_rmse' was not in top 3\n"
          ]
        },
        {
          "output_type": "display_data",
          "data": {
            "text/plain": [
              "Validation: |          | 0/? [00:00<?, ?it/s]"
            ],
            "application/vnd.jupyter.widget-view+json": {
              "version_major": 2,
              "version_minor": 0,
              "model_id": "6a7bec43df5143c081a102236a077f54"
            }
          },
          "metadata": {}
        },
        {
          "output_type": "stream",
          "name": "stderr",
          "text": [
            "INFO: Epoch 3, global step 1408: 'val_rmse' was not in top 3\n"
          ]
        },
        {
          "output_type": "display_data",
          "data": {
            "text/plain": [
              "Validation: |          | 0/? [00:00<?, ?it/s]"
            ],
            "application/vnd.jupyter.widget-view+json": {
              "version_major": 2,
              "version_minor": 0,
              "model_id": "4faac3059754451593bc48ac3daa2e03"
            }
          },
          "metadata": {}
        },
        {
          "output_type": "stream",
          "name": "stderr",
          "text": [
            "INFO: Epoch 4, global step 1583: 'val_rmse' reached 0.22438 (best 0.19428), saving model to '/content/AutogluonModels/ag-20251014_203109/epoch=4-step=1583.ckpt' as top 3\n"
          ]
        },
        {
          "output_type": "display_data",
          "data": {
            "text/plain": [
              "Validation: |          | 0/? [00:00<?, ?it/s]"
            ],
            "application/vnd.jupyter.widget-view+json": {
              "version_major": 2,
              "version_minor": 0,
              "model_id": "3e62ec591209401b83990359d593f424"
            }
          },
          "metadata": {}
        },
        {
          "output_type": "stream",
          "name": "stderr",
          "text": [
            "INFO: Epoch 4, global step 1760: 'val_rmse' reached 0.22466 (best 0.19428), saving model to '/content/AutogluonModels/ag-20251014_203109/epoch=4-step=1760.ckpt' as top 3\n"
          ]
        },
        {
          "output_type": "display_data",
          "data": {
            "text/plain": [
              "Validation: |          | 0/? [00:00<?, ?it/s]"
            ],
            "application/vnd.jupyter.widget-view+json": {
              "version_major": 2,
              "version_minor": 0,
              "model_id": "f7f4d9305ebb462486427ed479127f2b"
            }
          },
          "metadata": {}
        },
        {
          "output_type": "stream",
          "name": "stderr",
          "text": [
            "INFO: Epoch 5, global step 1935: 'val_rmse' reached 0.21133 (best 0.19428), saving model to '/content/AutogluonModels/ag-20251014_203109/epoch=5-step=1935.ckpt' as top 3\n"
          ]
        },
        {
          "output_type": "display_data",
          "data": {
            "text/plain": [
              "Validation: |          | 0/? [00:00<?, ?it/s]"
            ],
            "application/vnd.jupyter.widget-view+json": {
              "version_major": 2,
              "version_minor": 0,
              "model_id": "c165bf436f4b4d1c9e870064fb4fcfa0"
            }
          },
          "metadata": {}
        },
        {
          "output_type": "stream",
          "name": "stderr",
          "text": [
            "INFO: Epoch 5, global step 2112: 'val_rmse' was not in top 3\n"
          ]
        },
        {
          "output_type": "display_data",
          "data": {
            "text/plain": [
              "Validation: |          | 0/? [00:00<?, ?it/s]"
            ],
            "application/vnd.jupyter.widget-view+json": {
              "version_major": 2,
              "version_minor": 0,
              "model_id": "98a2a9d430df45e69e2aac1fa70b4e37"
            }
          },
          "metadata": {}
        },
        {
          "output_type": "stream",
          "name": "stderr",
          "text": [
            "INFO: Epoch 6, global step 2287: 'val_rmse' was not in top 3\n"
          ]
        },
        {
          "output_type": "display_data",
          "data": {
            "text/plain": [
              "Validation: |          | 0/? [00:00<?, ?it/s]"
            ],
            "application/vnd.jupyter.widget-view+json": {
              "version_major": 2,
              "version_minor": 0,
              "model_id": "5ad77d25b3c843be9335a44097ee6723"
            }
          },
          "metadata": {}
        },
        {
          "output_type": "stream",
          "name": "stderr",
          "text": [
            "INFO: Epoch 6, global step 2464: 'val_rmse' was not in top 3\n"
          ]
        },
        {
          "output_type": "display_data",
          "data": {
            "text/plain": [
              "Validation: |          | 0/? [00:00<?, ?it/s]"
            ],
            "application/vnd.jupyter.widget-view+json": {
              "version_major": 2,
              "version_minor": 0,
              "model_id": "7b219fa793a34656b3ed68f31d47c7fc"
            }
          },
          "metadata": {}
        },
        {
          "output_type": "stream",
          "name": "stderr",
          "text": [
            "INFO: Epoch 7, global step 2639: 'val_rmse' reached 0.21173 (best 0.19428), saving model to '/content/AutogluonModels/ag-20251014_203109/epoch=7-step=2639.ckpt' as top 3\n",
            "Start to fuse 3 checkpoints via the greedy soup algorithm.\n",
            "INFO: 💡 Tip: For seamless cloud uploads and versioning, try installing [litmodels](https://pypi.org/project/litmodels/) to enable LitModelCheckpoint, which syncs automatically with the Lightning model registry.\n"
          ]
        },
        {
          "output_type": "display_data",
          "data": {
            "text/plain": [
              "Predicting: |          | 0/? [00:00<?, ?it/s]"
            ],
            "application/vnd.jupyter.widget-view+json": {
              "version_major": 2,
              "version_minor": 0,
              "model_id": "78e0ab9ff5254579a1ce1f86190ae858"
            }
          },
          "metadata": {}
        },
        {
          "output_type": "stream",
          "name": "stderr",
          "text": [
            "INFO: 💡 Tip: For seamless cloud uploads and versioning, try installing [litmodels](https://pypi.org/project/litmodels/) to enable LitModelCheckpoint, which syncs automatically with the Lightning model registry.\n"
          ]
        },
        {
          "output_type": "display_data",
          "data": {
            "text/plain": [
              "Predicting: |          | 0/? [00:00<?, ?it/s]"
            ],
            "application/vnd.jupyter.widget-view+json": {
              "version_major": 2,
              "version_minor": 0,
              "model_id": "2815180e64784dcb9748cea8ed97f448"
            }
          },
          "metadata": {}
        },
        {
          "output_type": "stream",
          "name": "stderr",
          "text": [
            "INFO: 💡 Tip: For seamless cloud uploads and versioning, try installing [litmodels](https://pypi.org/project/litmodels/) to enable LitModelCheckpoint, which syncs automatically with the Lightning model registry.\n"
          ]
        },
        {
          "output_type": "display_data",
          "data": {
            "text/plain": [
              "Predicting: |          | 0/? [00:00<?, ?it/s]"
            ],
            "application/vnd.jupyter.widget-view+json": {
              "version_major": 2,
              "version_minor": 0,
              "model_id": "64b4d393838a4735a15dcebdf33b8e77"
            }
          },
          "metadata": {}
        },
        {
          "output_type": "stream",
          "name": "stderr",
          "text": [
            "AutoMM has created your model. 🎉🎉🎉\n",
            "\n",
            "To load the model, use the code below:\n",
            "    ```python\n",
            "    from autogluon.multimodal import MultiModalPredictor\n",
            "    predictor = MultiModalPredictor.load(\"/content/AutogluonModels/ag-20251014_203109\")\n",
            "    ```\n",
            "\n",
            "If you are not satisfied with the model, try to increase the training time, \n",
            "adjust the hyperparameters (https://auto.gluon.ai/stable/tutorials/multimodal/advanced_topics/customization.html),\n",
            "or post issues on GitHub (https://github.com/autogluon/autogluon/issues).\n",
            "\n",
            "\n"
          ]
        },
        {
          "output_type": "execute_result",
          "data": {
            "text/plain": [
              "<autogluon.multimodal.predictor.MultiModalPredictor at 0x7da1aae0e8d0>"
            ]
          },
          "metadata": {},
          "execution_count": 20
        }
      ],
      "source": [
        "from autogluon.multimodal import MultiModalPredictor\n",
        "hyperparams = {\n",
        "    \"model.hf_text.checkpoint_name\": \"sentence-transformers/all-MiniLM-L6-v2\"\n",
        "}\n",
        "predictor = MultiModalPredictor(label=label, problem_type=\"regression\")\n",
        "predictor.fit(\n",
        "    train_data=train_df,\n",
        "    hyperparameters=hyperparams,\n",
        "    time_limit=3600\n",
        ")"
      ]
    },
    {
      "cell_type": "code",
      "source": [
        "y_pred = predictor.predict(test_df)"
      ],
      "metadata": {
        "colab": {
          "base_uri": "https://localhost:8080/",
          "height": 86,
          "referenced_widgets": [
            "8d715b1ab52f4a7ba8aa0c154289eaea",
            "53b87b1e9bcd43c7888a971a99a730b7",
            "8e532a8f384f49f1bdf7a04858bc6c17",
            "9dafb1715a2446f3a53cd2ef95705311",
            "ce7aca3260e642dd9e694bb65d68fbc8",
            "1ba6cc2c32eb485b9934d0ed773f34e9",
            "ee63677a04a04006b171569dbeeb9a50",
            "fdc0b641e3214d5ab15e53a40a02d983",
            "b479cf5de44247bbab5c7a0c0d0358ab",
            "c18fb9230b0543db9880c32d13209c93",
            "fbcef1eb76af416b8dc18a967ac1c8c4"
          ]
        },
        "id": "AECcq5-0WgBL",
        "outputId": "5c0cdcdd-8f1d-4e1c-c29e-9271306b286e"
      },
      "execution_count": 21,
      "outputs": [
        {
          "output_type": "stream",
          "name": "stderr",
          "text": [
            "INFO: 💡 Tip: For seamless cloud uploads and versioning, try installing [litmodels](https://pypi.org/project/litmodels/) to enable LitModelCheckpoint, which syncs automatically with the Lightning model registry.\n"
          ]
        },
        {
          "output_type": "display_data",
          "data": {
            "text/plain": [
              "Predicting: |          | 0/? [00:00<?, ?it/s]"
            ],
            "application/vnd.jupyter.widget-view+json": {
              "version_major": 2,
              "version_minor": 0,
              "model_id": "8d715b1ab52f4a7ba8aa0c154289eaea"
            }
          },
          "metadata": {}
        }
      ]
    },
    {
      "cell_type": "code",
      "source": [
        "submission_df = pd.DataFrame({'Id': test_df['Id'], 'Sold Price': y_pred})\n",
        "submission_df.to_csv('submission.csv', index=False)"
      ],
      "metadata": {
        "id": "tbYf7zQyWy2M"
      },
      "execution_count": 22,
      "outputs": []
    }
  ],
  "metadata": {
    "accelerator": "GPU",
    "colab": {
      "gpuType": "T4",
      "machine_shape": "hm",
      "provenance": [],
      "mount_file_id": "1bYJfeel8OiQnzSV6fQx5815t4_huu-g-",
      "authorship_tag": "ABX9TyNgQxo4NZ7vMtVI6lLxS0+K",
      "include_colab_link": true
    },
    "kernelspec": {
      "display_name": "Python 3",
      "name": "python3"
    },
    "language_info": {
      "name": "python"
    }
  },
  "nbformat": 4,
  "nbformat_minor": 0
}